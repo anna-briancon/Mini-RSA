{
 "cells": [
  {
   "cell_type": "code",
   "execution_count": null,
   "metadata": {},
   "outputs": [],
   "source": [
    "from random import *\n",
    "def puissance (a,e,n):\n",
    "  p = 1\n",
    "  while e>0:\n",
    "    if (e % 2 != 0):\n",
    "      p=(p*a)%n\n",
    "    a=(a*a)%n\n",
    "    e=e//2\n",
    "  return p"
   ]
  },
  {
   "cell_type": "code",
   "execution_count": null,
   "metadata": {},
   "outputs": [],
   "source": [
    "def test_premier(n): # test de Fermat\n",
    "\n",
    "   if ( (puissance(2,n-1,n)==1) and\n",
    "      (puissance(3,n-1,n)==1) and\n",
    "      (puissance(5,n-1,n)==1) and\n",
    "      (puissance(7,n-1,n)==1) and\n",
    "      (puissance(11,n-1,n)==1) and\n",
    "      (puissance(13,n-1,n)==1) ):\n",
    "      return True; # probablement premier (garantie si n<2^15)\n",
    "   return False"
   ]
  },
  {
   "cell_type": "code",
   "execution_count": null,
   "metadata": {},
   "outputs": [],
   "source": [
    "def pgcd(u, v):\n",
    "  t = 0\n",
    "  while (v):\n",
    "    t = u\n",
    "    u = v\n",
    "    v = t % v\n",
    "  if(u<0):\n",
    "    return -u\n",
    "  else:\n",
    "    return u"
   ]
  },
  {
   "cell_type": "code",
   "execution_count": null,
   "metadata": {},
   "outputs": [],
   "source": [
    "def bezout(a, b):\n",
    "\n",
    "  # On sauvegarde les valeurs de a et b.\n",
    "   a0 = a\n",
    "   b0 = b\n",
    "\n",
    "  # On laisse invariant p*a0 + q*b0 = a et  r*a0 + s*b0 = b.\n",
    "   p = 1  \n",
    "   q = 0\n",
    "   r = 0  \n",
    "   s = 1\n",
    "   c=1\n",
    "   quotient=1\n",
    "   nouveau_r=1\n",
    "   nouveau_s=1\n",
    "\n",
    "  # La boucle principale.\n",
    "   while (b != 0): \n",
    "    c = a % b\n",
    "    quotient = a//b\n",
    "    a = b\n",
    "    b = c\n",
    "    nouveau_r = p - (quotient * r)\n",
    "    nouveau_s = q - (quotient * s)\n",
    "    p = r \n",
    "    q = s\n",
    "    r = nouveau_r\n",
    "    s = nouveau_s\n",
    "    if p<0:\n",
    "      p=p+b0\n",
    "   return p # on n'a besoin que de p #si p est négatif retourne p+phi\n"
   ]
  },
  {
   "cell_type": "code",
   "execution_count": null,
   "metadata": {},
   "outputs": [],
   "source": [
    "def generateurClé(message):\n",
    "  c=10\n",
    "  b=100\n",
    "  p=randint(c,b)\n",
    "  q=randint(c,b)\n",
    "  e=randint(c,b)\n",
    "  d=randint(c,b)\n",
    "\n",
    "  while test_premier(p)==False:\n",
    "    p = randint(c,b)\n",
    "  while test_premier(q)==False:\n",
    "    q = randint(c,b)\n",
    "  print(\"2 nombres probablement premier =\",p,q)\n",
    "\n",
    "  n=p*q\n",
    "  print(\"n=p*q=\",n)\n",
    "  \n",
    "  phi = (p - 1)*(q - 1)\n",
    "  print(\"phi(n)=\",phi)\n",
    " \n",
    "  while 1>=e>=phi or pgcd(e,phi)!=1 :\n",
    "      e = randint(c,b)\n",
    "  d= int(bezout(int(e),int(phi)))\n",
    "  print(\"cle publique e=\",e)\n",
    "  print(\"cle privée d=\", d)\n",
    "  return e,d "
   ]
  }
 ],
 "metadata": {
  "language_info": {
   "name": "python"
  },
  "orig_nbformat": 4
 },
 "nbformat": 4,
 "nbformat_minor": 2
}
