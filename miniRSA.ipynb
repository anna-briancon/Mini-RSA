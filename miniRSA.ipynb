{
 "cells": [
  {
   "cell_type": "code",
   "execution_count": 45,
   "metadata": {},
   "outputs": [],
   "source": [
    "from random import *\n",
    "def puissance (a,e,n):\n",
    "  p = 1\n",
    "  while e>0:\n",
    "    if (e % 2 != 0):\n",
    "      p=(p*a)%n\n",
    "    a=(a*a)%n\n",
    "    e=e//2\n",
    "  return p\n",
    "#Commenter tout le code\n",
    "#taille des messages\n"
   ]
  },
  {
   "cell_type": "code",
   "execution_count": 80,
   "metadata": {},
   "outputs": [],
   "source": [
    "# Test puissance\n",
    "def test_puissance():\n",
    "    assert(puissance(4,2,5)==1)\n",
    "test_puissance()"
   ]
  },
  {
   "cell_type": "code",
   "execution_count": 75,
   "metadata": {},
   "outputs": [
    {
     "data": {
      "text/plain": [
       "True"
      ]
     },
     "execution_count": 75,
     "metadata": {},
     "output_type": "execute_result"
    }
   ],
   "source": [
    "def test_premier_Fermat(n): # test de Fermat\n",
    "   if ( (puissance(2,n-1,n)==1) and\n",
    "      (puissance(3,n-1,n)==1) and\n",
    "      (puissance(5,n-1,n)==1) and\n",
    "      (puissance(7,n-1,n)==1) and\n",
    "      (puissance(11,n-1,n)==1) and\n",
    "      (puissance(13,n-1,n)==1) ):\n",
    "      return True; # probablement premier (garantie si n<2^15)\n",
    "   return False"
   ]
  },
  {
   "cell_type": "code",
   "execution_count": 76,
   "metadata": {},
   "outputs": [],
   "source": [
    "# Test premier de Fermat\n",
    "def test_Fermat():\n",
    "    assert(test_premier_Fermat(22)==False)\n",
    "    assert(test_premier_Fermat(647)==True)\n",
    "test_Fermat()"
   ]
  },
  {
   "cell_type": "code",
   "execution_count": 91,
   "metadata": {},
   "outputs": [],
   "source": [
    "def temoin_Miller(n, a):\n",
    "    s = 0\n",
    "    d = n-1\n",
    "    while d % 2 == 0:\n",
    "       d = d//2\n",
    "    x = puissance(a, d, n)\n",
    "    if(x == 1 or x == n-1):\n",
    "        return False\n",
    "    for i in range(s-1):\n",
    "        x = puissance(x, 2, n)\n",
    "        if(x == n-1):\n",
    "            return False\n",
    "    return True"
   ]
  },
  {
   "cell_type": "code",
   "execution_count": 92,
   "metadata": {},
   "outputs": [],
   "source": [
    "# Test témoin de Miller \n",
    "def test_temoin_Miller():\n",
    "    assert(temoin_Miller(3,9)==True)\n",
    "    assert(temoin_Miller(4,9)==False)\n",
    "test_temoin_Miller()"
   ]
  },
  {
   "cell_type": "code",
   "execution_count": 98,
   "metadata": {},
   "outputs": [],
   "source": [
    "# Le GMP recommande k=25 pour avoir une proba d'erreur < 2**-50\n",
    "def test_premier_Miller_Rabin(n, k):\n",
    "    if n == 2 or n == 3:\n",
    "       return True\n",
    "    if n % 2 == 0:\n",
    "       return False\n",
    "    for i in range(k):\n",
    "        a = randint(2, n-2)\n",
    "        if(temoin_Miller(n, a)):\n",
    "            return False\n",
    "    return True"
   ]
  },
  {
   "cell_type": "code",
   "execution_count": 99,
   "metadata": {},
   "outputs": [],
   "source": [
    "# Test de primalité de Miller Rabin\n",
    "def test_premier_Miller():\n",
    "    assert(test_premier_Miller_Rabin(3,1)==True)\n",
    "    assert(test_premier_Miller_Rabin(42,5)==False)\n",
    "test_premier_Miller()"
   ]
  },
  {
   "cell_type": "code",
   "execution_count": 5,
   "metadata": {},
   "outputs": [],
   "source": [
    "def pgcd(u, v):\n",
    "  t = 0\n",
    "  while (v):\n",
    "    t = u\n",
    "    u = v\n",
    "    v = t % v\n",
    "  if(u<0):\n",
    "    return -u\n",
    "  else:\n",
    "    return u"
   ]
  },
  {
   "cell_type": "code",
   "execution_count": 102,
   "metadata": {},
   "outputs": [],
   "source": [
    "# Test PGCD\n",
    "def test_pgcd():\n",
    "    assert(pgcd(5,4)==1)\n",
    "    assert(pgcd(222,448)==2)\n",
    "test_pgcd()"
   ]
  },
  {
   "cell_type": "code",
   "execution_count": 113,
   "metadata": {},
   "outputs": [
    {
     "data": {
      "text/plain": [
       "0"
      ]
     },
     "execution_count": 113,
     "metadata": {},
     "output_type": "execute_result"
    }
   ],
   "source": [
    "def bezout(a, b):\n",
    "\n",
    "  # On sauvegarde les valeurs de a et b.\n",
    "   a0 = a\n",
    "   b0 = b\n",
    "\n",
    "  # On laisse invariant p*a0 + q*b0 = a et  r*a0 + s*b0 = b.\n",
    "   p = 1\n",
    "   q = 0\n",
    "   r = 0\n",
    "   s = 1\n",
    "   c = 1\n",
    "   quotient = 1\n",
    "   nouveau_r = 1\n",
    "   nouveau_s = 1\n",
    "\n",
    "  # La boucle principale.\n",
    "   while (b != 0):\n",
    "    c = a % b\n",
    "    quotient = a//b\n",
    "    a = b\n",
    "    b = c\n",
    "    nouveau_r = p - (quotient * r)\n",
    "    nouveau_s = q - (quotient * s)\n",
    "    p = r\n",
    "    q = s\n",
    "    r = nouveau_r\n",
    "    s = nouveau_s\n",
    "   if p < 0:\n",
    "     p = p+b0\n",
    "   return p  # on n'a besoin que de p #si p est négatif retourne p+phi"
   ]
  },
  {
   "cell_type": "code",
   "execution_count": 115,
   "metadata": {},
   "outputs": [],
   "source": [
    "# Test théorème de Bezout\n",
    "def test_Bezout():\n",
    "    assert(bezout(50,47)==16)\n",
    "    assert(bezout(15,5)==0)\n",
    "    assert(bezout(445,457)==38)\n",
    "test_Bezout()"
   ]
  },
  {
   "cell_type": "code",
   "execution_count": 7,
   "metadata": {},
   "outputs": [],
   "source": [
    "#vérifier que le message est plus petit que la clé\n",
    "def generateurClé(c,b):\n",
    "  p=randint(c,b)\n",
    "  q=randint(c,b)\n",
    "  e=randint(c,b)\n",
    "  d=randint(c,b)\n",
    "\n",
    "  while test_premier_Miller_Rabin(p,25)==False:\n",
    "    p = randint(c,b)\n",
    "  while test_premier_Miller_Rabin(q,25)==False:\n",
    "    q = randint(c,b)\n",
    "  #print(\"2 nombres probablement premier =\",p,q)\n",
    "\n",
    "  n=p*q\n",
    "  #print(\"n=p*q=\",n)\n",
    "  \n",
    "  phi = (p - 1)*(q - 1)\n",
    "  #print(\"phi(n)=\",phi)\n",
    " \n",
    "  while 1>=e>=phi or pgcd(e,phi)!=1 :\n",
    "      e = randint(c,b)\n",
    "  d= int(bezout(int(e),int(phi)))\n",
    "  #print(\"cle publique e=\",e)\n",
    "  #print(\"cle privée d=\", d)\n",
    "  return e,d,n "
   ]
  },
  {
   "cell_type": "code",
   "execution_count": 8,
   "metadata": {},
   "outputs": [
    {
     "data": {
      "text/plain": [
       "86771824590129366"
      ]
     },
     "execution_count": 8,
     "metadata": {},
     "output_type": "execute_result"
    }
   ],
   "source": [
    "def chiffrer(message,clé,n):\n",
    "    return puissance(message,clé,n)\n",
    "chiffrer(2192236325473912,1588230257,166681562145852197)"
   ]
  },
  {
   "cell_type": "code",
   "execution_count": 9,
   "metadata": {},
   "outputs": [
    {
     "data": {
      "text/plain": [
       "198122477765"
      ]
     },
     "execution_count": 9,
     "metadata": {},
     "output_type": "execute_result"
    }
   ],
   "source": [
    "def dechiffrer(messageChiffre,clé,n):\n",
    "    return puissance(messageChiffre,clé,n)\n",
    "dechiffrer(222066741575,771241,230315914859)"
   ]
  },
  {
   "cell_type": "code",
   "execution_count": 10,
   "metadata": {},
   "outputs": [],
   "source": [
    "def str_to_int(m):\n",
    "    s=0\n",
    "    b=1\n",
    "    for i in range(len(m)):\n",
    "        s=s+ord(m[i])*b\n",
    "        b=b*256\n",
    "    return s"
   ]
  },
  {
   "cell_type": "code",
   "execution_count": 11,
   "metadata": {},
   "outputs": [],
   "source": [
    "def int_to_str(c):\n",
    "    s =\"\"\n",
    "    q,r= divmod(c,256)\n",
    "    s=s+str(chr(r))\n",
    "    while q != 0:\n",
    "        q,r = divmod(q,256)\n",
    "        s =s +str(chr(r))\n",
    "    return s "
   ]
  },
  {
   "cell_type": "code",
   "execution_count": 12,
   "metadata": {},
   "outputs": [
    {
     "name": "stdout",
     "output_type": "stream",
     "text": [
      "3f618\n",
      "3f618\n",
      "241343817267\n"
     ]
    }
   ],
   "source": [
    "import hashlib\n",
    "#Probleme de taille de l'empreinte\n",
    "def empreinte(message): \n",
    "    m=hashlib.md5(repr(message).encode())\n",
    "    return m.hexdigest()[:5]\n",
    "\n",
    "a=882389747506310411\n",
    "b=882389747506310411\n",
    "c=empreinte(a)\n",
    "print(c)\n",
    "print(empreinte(b))\n",
    "print(str_to_int(c))"
   ]
  },
  {
   "cell_type": "code",
   "execution_count": 13,
   "metadata": {},
   "outputs": [],
   "source": [
    "def envoieAuthentifie(message,clePrivee,clePublique):\n",
    "    #Verifie si le message est un string, si oui le convertit en int\n",
    "    if(isinstance(message,str)):\n",
    "        message=str_to_int(message)\n",
    "    #calcule de l'empreinte du message\n",
    "    e = empreinte(message)\n",
    "    e=str_to_int(e)\n",
    "    print(\"Empreinte: \"+str(e))\n",
    "    \n",
    "    #Chiffrage de l'empreinte avce la clé privée de l'envoyeur\n",
    "    c = chiffrer(e,clePrivee[0],clePrivee[1])\n",
    "    print(\"EmpreinteChiffré: \"+str(c))\n",
    "    \n",
    "    #Concaténation du message et de l'empreinte chiffrée\n",
    "    concatene = int(str(message)+str(c))\n",
    "    print(\"Message + empreinte: \"+str(concatene))\n",
    "    #Taille de l'empreinte\n",
    "    size= len(str(c))\n",
    "    \n",
    "    #Envoie du message finale chiffrée avec la clé publique du receveur\n",
    "    return chiffrer(concatene,clePublique[0],clePublique[1]), size   "
   ]
  },
  {
   "cell_type": "code",
   "execution_count": 14,
   "metadata": {},
   "outputs": [],
   "source": [
    "def verif_signature(message,clePrivee,clePublique,tailleEmpreinte):\n",
    "\n",
    "    #Dechiffrer le message signé\n",
    "    messageD = str(dechiffrer(message,clePrivee[0],clePrivee[1]))\n",
    "    print(\"message déchiffré: \"+messageD)\n",
    "\n",
    "    #Separer le message de l'empreinte\n",
    "    MessageEmpreinteSep=len(messageD)-tailleEmpreinte\n",
    "    \n",
    "    messageM=int(messageD[:MessageEmpreinteSep])\n",
    "    empreinteM=int(messageD[MessageEmpreinteSep:len(messageD)])\n",
    "    print(\"Message: \"+str(messageM))\n",
    "    print(\"Empreinte du message chiffrée: \"+str(empreinteM))\n",
    "\n",
    "    #Déchiffrer l'empreinte avec la clé publique\n",
    "    EmpreinteD = dechiffrer(empreinteM,clePublique[0],clePublique[1])\n",
    "    print(\"ed \"+str(EmpreinteD))\n",
    "    print(\"ec \"+str(str_to_int(empreinte(messageM))))\n",
    "    #Vérification que l'empreinte déchiffrer correspond à celui du message\n",
    "    if(str_to_int(empreinte(messageM))==EmpreinteD):\n",
    "       return messageM #int_to_str() demander si 2 fonctions différente ou 1 seule\n",
    "    else:\n",
    "       return False\n",
    "#verif_signature()\n",
    "    "
   ]
  },
  {
   "cell_type": "code",
   "execution_count": 15,
   "metadata": {},
   "outputs": [
    {
     "name": "stdout",
     "output_type": "stream",
     "text": [
      "Clé Publique A: [352577345169288208510792811083652656631, 261901949925735237685632166901063937475412219242419761792740189428368637701597]\n",
      "Clé Privée A: [139824956444176089112255046364954928216548257808324594678042049760851141319591, 261901949925735237685632166901063937475412219242419761792740189428368637701597]\n"
     ]
    }
   ],
   "source": [
    "#Alice\n",
    "gA=generateurClé(10**38,10**39)#10**19,10**20\n",
    "cléPubliqueA= [gA[0],gA[2]]\n",
    "cléPrivéeA= [gA[1],gA[2]]\n",
    "print(\"Clé Publique A: \"+str(cléPubliqueA))\n",
    "print(\"Clé Privée A: \"+str(cléPrivéeA))"
   ]
  },
  {
   "cell_type": "code",
   "execution_count": 16,
   "metadata": {},
   "outputs": [
    {
     "name": "stdout",
     "output_type": "stream",
     "text": [
      "Clé Publique CA: [581137101231891268397124325021928434994291435151501998109047, 690403777389423963796256044683197758729476646521574254707466670025746136579082282115717082808635754722600895430322589493]\n",
      "Clé Privée CA: [262850253724056267428164663040378044058681427259983547113991940238888165452373328507583054048025512985933367392227183567, 690403777389423963796256044683197758729476646521574254707466670025746136579082282115717082808635754722600895430322589493]\n"
     ]
    }
   ],
   "source": [
    "#Vérifier que le message est plus petit que la clé\n",
    "#CA\n",
    "gCA=generateurClé(10**57,10**60)#10**21,10**23 \n",
    "cléPubliqueCA= [gCA[0],gCA[2]]\n",
    "cléPrivéeCA= [gCA[1],gCA[2]]\n",
    "print(\"Clé Publique CA: \"+str(cléPubliqueCA))\n",
    "print(\"Clé Privée CA: \"+str(cléPrivéeCA))"
   ]
  },
  {
   "cell_type": "code",
   "execution_count": 17,
   "metadata": {},
   "outputs": [
    {
     "name": "stdout",
     "output_type": "stream",
     "text": [
      "Empreinte: 430456256819\n",
      "EmpreinteChiffré: 26442151457466804847542999629550812705760713289290816475156642725964758495739\n",
      "Message + empreinte: 35257734516928820851079281108365265663126442151457466804847542999629550812705760713289290816475156642725964758495739\n",
      "Message de Alice au CA: (617260313391719916393514583256305030740878284037558407998845923116252320862854462356462201336139534525486917232566858769, 77)\n"
     ]
    }
   ],
   "source": [
    "#Envoie le message au CA\n",
    "messageA=envoieAuthentifie(int(cléPubliqueA[0]),cléPrivéeA,cléPubliqueCA)\n",
    "print(\"Message de Alice au CA: \"+ str(messageA))"
   ]
  },
  {
   "cell_type": "code",
   "execution_count": 18,
   "metadata": {},
   "outputs": [
    {
     "name": "stdout",
     "output_type": "stream",
     "text": [
      "message déchiffré: 35257734516928820851079281108365265663126442151457466804847542999629550812705760713289290816475156642725964758495739\n",
      "Message: 352577345169288208510792811083652656631\n",
      "Empreinte du message chiffrée: 26442151457466804847542999629550812705760713289290816475156642725964758495739\n",
      "ed 430456256819\n",
      "ec 430456256819\n",
      "Certificat de Alice: 120301141719698751018647827495511579342027246865268664842065822669712777833230244915813050478412753138182361004698295680\n"
     ]
    }
   ],
   "source": [
    "#Vérifie la signature 10**39 \n",
    "#if \n",
    "verif=verif_signature(messageA[0],cléPrivéeCA,cléPubliqueA,messageA[1])\n",
    "assert(verif==cléPubliqueA[0])\n",
    "CAClePubliqeA=chiffrer(cléPubliqueA[0],cléPrivéeCA[0],cléPrivéeCA[1])\n",
    "print(\"Certificat de Alice: \"+str(CAClePubliqeA))"
   ]
  },
  {
   "cell_type": "code",
   "execution_count": 19,
   "metadata": {},
   "outputs": [
    {
     "name": "stdout",
     "output_type": "stream",
     "text": [
      "Vérification clé publique Alice: 352577345169288208510792811083652656631\n"
     ]
    }
   ],
   "source": [
    "#Bob vérifie le certificat d'alice\n",
    "print(\"Vérification clé publique Alice: \"+str(dechiffrer(CAClePubliqeA,cléPubliqueCA[0],cléPubliqueCA[1])))"
   ]
  },
  {
   "cell_type": "code",
   "execution_count": 20,
   "metadata": {},
   "outputs": [
    {
     "name": "stdout",
     "output_type": "stream",
     "text": [
      "Clé Publique B: [718642887184481845, 235850876786633722728899964724486901]\n",
      "Clé Privée B: [218024657165777089803734356700114413, 235850876786633722728899964724486901]\n",
      "Empreinte: 207117889891\n",
      "EmpreinteChiffré: 24161234329075020814480645117859057\n",
      "Message + empreinte: 2384774824161234329075020814480645117859057\n",
      "Le message crypté est\n",
      "(48755692972639776795248872242861326107743431112417160610146153831670493739909, 35)\n",
      "message déchiffré: 2384774824161234329075020814480645117859057\n",
      "Message: 23847748\n",
      "Empreinte du message chiffrée: 24161234329075020814480645117859057\n",
      "ed 207117889891\n",
      "ec 207117889891\n",
      "Le message d'origine est\n",
      "23847748\n",
      "Le message décrypté est\n",
      "23847748\n"
     ]
    }
   ],
   "source": [
    "#BOB\n",
    "gB=generateurClé(10**17,10**18)#10**6,10**7\n",
    "cléPubliqueB= [gB[0],gB[2]]\n",
    "cléPrivéeB= [gB[1],gB[2]]\n",
    "print(\"Clé Publique B: \"+str(cléPubliqueB))\n",
    "print(\"Clé Privée B: \"+str(cléPrivéeB))\n",
    "\n",
    "#Choix message taille < 10**6\n",
    "messagez=23847748\n",
    "messageCd=envoieAuthentifie(messagez,cléPrivéeB,cléPubliqueA)\n",
    "\n",
    "print(\"Le message crypté est\")\n",
    "print(messageCd)\n",
    "\n",
    "messageDk=verif_signature(messageCd[0],cléPrivéeA,cléPubliqueB,messageCd[1])\n",
    "\n",
    "print(\"Le message d'origine est\")\n",
    "print(messagez)\n",
    "\n",
    "print(\"Le message décrypté est\")\n",
    "print(messageDk)\n",
    "\n"
   ]
  }
 ],
 "metadata": {
  "kernelspec": {
   "display_name": "Python 3.10.6 64-bit",
   "language": "python",
   "name": "python3"
  },
  "language_info": {
   "codemirror_mode": {
    "name": "ipython",
    "version": 3
   },
   "file_extension": ".py",
   "mimetype": "text/x-python",
   "name": "python",
   "nbconvert_exporter": "python",
   "pygments_lexer": "ipython3",
   "version": "3.10.6"
  },
  "orig_nbformat": 4,
  "vscode": {
   "interpreter": {
    "hash": "916dbcbb3f70747c44a77c7bcd40155683ae19c65e1c03b4aa3499c5328201f1"
   }
  }
 },
 "nbformat": 4,
 "nbformat_minor": 2
}
