{
 "cells": [
  {
   "cell_type": "code",
   "execution_count": 38,
   "metadata": {},
   "outputs": [],
   "source": [
    "from random import *\n",
    "def puissance (a,e,n):\n",
    "  p = 1\n",
    "  while e>0:\n",
    "    if (e % 2 != 0):\n",
    "      p=(p*a)%n\n",
    "    a=(a*a)%n\n",
    "    e=e//2\n",
    "  return p\n",
    "#Commenter tout le code\n",
    "#taille des messages"
   ]
  },
  {
   "cell_type": "code",
   "execution_count": 39,
   "metadata": {},
   "outputs": [],
   "source": [
    "def test_premier_Fermat(n): # test de Fermat\n",
    "\n",
    "   if ( (puissance(2,n-1,n)==1) and\n",
    "      (puissance(3,n-1,n)==1) and\n",
    "      (puissance(5,n-1,n)==1) and\n",
    "      (puissance(7,n-1,n)==1) and\n",
    "      (puissance(11,n-1,n)==1) and\n",
    "      (puissance(13,n-1,n)==1) ):\n",
    "      return True; # probablement premier (garantie si n<2^15)\n",
    "   return False"
   ]
  },
  {
   "cell_type": "code",
   "execution_count": 40,
   "metadata": {},
   "outputs": [],
   "source": [
    "def temoin_Miller(n, a):\n",
    "    s = 0\n",
    "    d = n-1\n",
    "    while d % 2 == 0:\n",
    "       d = d//2\n",
    "    x = puissance(a, d, n)\n",
    "    if(x == 1 or x == n-1):\n",
    "        return False\n",
    "    for i in range(s-1):\n",
    "        x = puissance(x, 2, n)\n",
    "        if(x == n-1):\n",
    "            return False\n",
    "    return True\n"
   ]
  },
  {
   "cell_type": "code",
   "execution_count": 41,
   "metadata": {},
   "outputs": [],
   "source": [
    "# Le GMP recommande k=25 pour avoir une proba d'erreur < 2**-50\n",
    "def test_premier_Miller_Rabin(n, k):\n",
    "    if n == 2 or n == 3:\n",
    "       return True\n",
    "    if n % 2 == 0:\n",
    "       return False\n",
    "    for i in range(k):\n",
    "        a = randint(2, n-2)\n",
    "        if(temoin_Miller(n, a)):\n",
    "            return False\n",
    "    return True\n"
   ]
  },
  {
   "cell_type": "code",
   "execution_count": 42,
   "metadata": {},
   "outputs": [],
   "source": [
    "def pgcd(u, v):\n",
    "  t = 0\n",
    "  while (v):\n",
    "    t = u\n",
    "    u = v\n",
    "    v = t % v\n",
    "  if(u<0):\n",
    "    return -u\n",
    "  else:\n",
    "    return u"
   ]
  },
  {
   "cell_type": "code",
   "execution_count": 43,
   "metadata": {},
   "outputs": [],
   "source": [
    "def bezout(a, b):\n",
    "\n",
    "  # On sauvegarde les valeurs de a et b.\n",
    "   a0 = a\n",
    "   b0 = b\n",
    "\n",
    "  # On laisse invariant p*a0 + q*b0 = a et  r*a0 + s*b0 = b.\n",
    "   p = 1\n",
    "   q = 0\n",
    "   r = 0\n",
    "   s = 1\n",
    "   c = 1\n",
    "   quotient = 1\n",
    "   nouveau_r = 1\n",
    "   nouveau_s = 1\n",
    "\n",
    "  # La boucle principale.\n",
    "   while (b != 0):\n",
    "    c = a % b\n",
    "    quotient = a//b\n",
    "    a = b\n",
    "    b = c\n",
    "    nouveau_r = p - (quotient * r)\n",
    "    nouveau_s = q - (quotient * s)\n",
    "    p = r\n",
    "    q = s\n",
    "    r = nouveau_r\n",
    "    s = nouveau_s\n",
    "   if p < 0:\n",
    "     p = p+b0\n",
    "   return p  # on n'a besoin que de p #si p est négatif retourne p+phi\n"
   ]
  },
  {
   "cell_type": "code",
   "execution_count": 44,
   "metadata": {},
   "outputs": [],
   "source": [
    "#vérifier que le message est plus petit que la clé\n",
    "def generateurClé(c,b):\n",
    "  p=randint(c,b)\n",
    "  q=randint(c,b)\n",
    "  e=randint(c,b)\n",
    "  d=randint(c,b)\n",
    "\n",
    "  while test_premier_Miller_Rabin(p,25)==False:\n",
    "    p = randint(c,b)\n",
    "  while test_premier_Miller_Rabin(q,25)==False:\n",
    "    q = randint(c,b)\n",
    "  #print(\"2 nombres probablement premier =\",p,q)\n",
    "\n",
    "  n=p*q\n",
    "  #print(\"n=p*q=\",n)\n",
    "  \n",
    "  phi = (p - 1)*(q - 1)\n",
    "  #print(\"phi(n)=\",phi)\n",
    " \n",
    "  while 1>=e>=phi or pgcd(e,phi)!=1 :\n",
    "      e = randint(c,b)\n",
    "  d= int(bezout(int(e),int(phi)))\n",
    "  #print(\"cle publique e=\",e)\n",
    "  #print(\"cle privée d=\", d)\n",
    "  return e,d,n "
   ]
  },
  {
   "cell_type": "code",
   "execution_count": 45,
   "metadata": {},
   "outputs": [
    {
     "data": {
      "text/plain": [
       "86771824590129366"
      ]
     },
     "execution_count": 45,
     "metadata": {},
     "output_type": "execute_result"
    }
   ],
   "source": [
    "def chiffrer(message,clé,n):\n",
    "    return puissance(message,clé,n)\n",
    "chiffrer(2192236325473912,1588230257,166681562145852197)"
   ]
  },
  {
   "cell_type": "code",
   "execution_count": 46,
   "metadata": {},
   "outputs": [
    {
     "data": {
      "text/plain": [
       "198122477765"
      ]
     },
     "execution_count": 46,
     "metadata": {},
     "output_type": "execute_result"
    }
   ],
   "source": [
    "def dechiffrer(messageChiffre,clé,n):\n",
    "    return puissance(messageChiffre,clé,n)\n",
    "dechiffrer(222066741575,771241,230315914859)"
   ]
  },
  {
   "cell_type": "code",
   "execution_count": 47,
   "metadata": {},
   "outputs": [],
   "source": [
    "def str_to_int(m):\n",
    "    s=0\n",
    "    b=1\n",
    "    for i in range(len(m)):\n",
    "        s=s+ord(m[i])*b\n",
    "        b=b*256\n",
    "    return s"
   ]
  },
  {
   "cell_type": "code",
   "execution_count": 48,
   "metadata": {},
   "outputs": [],
   "source": [
    "def int_to_str(c):\n",
    "    s =\"\"\n",
    "    q,r= divmod(c,256)\n",
    "    s=s+str(chr(r))\n",
    "    while q != 0:\n",
    "        q,r = divmod(q,256)\n",
    "        s =s +str(chr(r))\n",
    "    return s "
   ]
  },
  {
   "cell_type": "code",
   "execution_count": 49,
   "metadata": {},
   "outputs": [
    {
     "name": "stdout",
     "output_type": "stream",
     "text": [
      "3f618\n",
      "3f618\n",
      "241343817267\n"
     ]
    }
   ],
   "source": [
    "import hashlib\n",
    "#Probleme de taille de l'empreinte\n",
    "def empreinte(message): \n",
    "    m=hashlib.md5(repr(message).encode())\n",
    "    return m.hexdigest()[:5]\n",
    "\n",
    "a=882389747506310411\n",
    "b=882389747506310411\n",
    "c=empreinte(a)\n",
    "print(c)\n",
    "print(empreinte(b))\n",
    "print(str_to_int(c))"
   ]
  },
  {
   "cell_type": "code",
   "execution_count": 50,
   "metadata": {},
   "outputs": [],
   "source": [
    "def envoieAuthentifie(message,clePrivee,clePublique):\n",
    "    #Verifie si le message est un string, si oui le convertit en int\n",
    "    if(isinstance(message,str)):\n",
    "        message=str_to_int(message)\n",
    "    #calcule de l'empreinte du message\n",
    "    e = empreinte(message)\n",
    "    e=str_to_int(e)\n",
    "    print(\"Empreinte: \"+str(e))\n",
    "    \n",
    "    #Chiffrage de l'empreinte avce la clé privée de l'envoyeur\n",
    "    c = chiffrer(e,clePrivee[0],clePrivee[1])\n",
    "    print(\"EmpreinteChiffré: \"+str(c))\n",
    "    \n",
    "    #Concaténation du message et de l'empreinte chiffrée\n",
    "    concatene = int(str(message)+str(c))\n",
    "    print(\"Message + empreinte: \"+str(concatene))\n",
    "    #Taille de l'empreinte\n",
    "    size= len(str(c))\n",
    "    \n",
    "    #Envoie du message finale chiffrée avec la clé publique du receveur\n",
    "    return chiffrer(concatene,clePublique[0],clePublique[1]), size   "
   ]
  },
  {
   "cell_type": "code",
   "execution_count": 51,
   "metadata": {},
   "outputs": [],
   "source": [
    "def verif_signature(message,clePrivee,clePublique,tailleEmpreinte):\n",
    "\n",
    "    #Dechiffrer le message signé\n",
    "    messageD = str(dechiffrer(message,clePrivee[0],clePrivee[1]))\n",
    "    print(\"message déchiffré: \"+messageD)\n",
    "\n",
    "    #Separer le message de l'empreinte\n",
    "    MessageEmpreinteSep=len(messageD)-tailleEmpreinte\n",
    "    \n",
    "    messageM=int(messageD[:MessageEmpreinteSep])\n",
    "    empreinteM=int(messageD[MessageEmpreinteSep:len(messageD)])\n",
    "    print(\"Message: \"+str(messageM))\n",
    "    print(\"Empreinte du message chiffrée: \"+str(empreinteM))\n",
    "\n",
    "    #Déchiffrer l'empreinte avec la clé publique\n",
    "    EmpreinteD = dechiffrer(empreinteM,clePublique[0],clePublique[1])\n",
    "    print(\"ed \"+str(EmpreinteD))\n",
    "    print(\"ec \"+str(str_to_int(empreinte(messageM))))\n",
    "    #Vérification que l'empreinte déchiffrer correspond à celui du message\n",
    "    if(str_to_int(empreinte(messageM))==EmpreinteD):\n",
    "       return messageM #int_to_str() demander si 2 fonctions différente ou 1 seule\n",
    "    else:\n",
    "       return False\n",
    "#verif_signature()\n",
    "    "
   ]
  },
  {
   "cell_type": "code",
   "execution_count": 52,
   "metadata": {},
   "outputs": [
    {
     "name": "stdout",
     "output_type": "stream",
     "text": [
      "Clé Publique A: [322272027337086533995911214483094651161, 485494654261194059842677603902453471316200904816667431805659744195168245621593]\n",
      "Clé Privée A: [41357710062067451270146068941259111533608240317591000431002368604960026319945, 485494654261194059842677603902453471316200904816667431805659744195168245621593]\n"
     ]
    }
   ],
   "source": [
    "#Alice\n",
    "gA=generateurClé(10**38,10**39)#10**19,10**20\n",
    "cléPubliqueA= [gA[0],gA[2]]\n",
    "cléPrivéeA= [gA[1],gA[2]]\n",
    "print(\"Clé Publique A: \"+str(cléPubliqueA))\n",
    "print(\"Clé Privée A: \"+str(cléPrivéeA))"
   ]
  },
  {
   "cell_type": "code",
   "execution_count": 53,
   "metadata": {},
   "outputs": [
    {
     "name": "stdout",
     "output_type": "stream",
     "text": [
      "Clé Publique CA: [603725442022312414303082991695273136783208623326465588751487, 445328018864501369356618099472372760327218340048999438398586826469100476775127760200790616539264477273235023263421180641]\n",
      "Clé Privée CA: [257181452137356564388568397789288491510000941017480369930032625223882238657902552965295560438249629578346628481905706423, 445328018864501369356618099472372760327218340048999438398586826469100476775127760200790616539264477273235023263421180641]\n"
     ]
    }
   ],
   "source": [
    "#Vérifier que le message est plus petit que la clé\n",
    "#CA\n",
    "gCA=generateurClé(10**57,10**60)#10**21,10**23 \n",
    "cléPubliqueCA= [gCA[0],gCA[2]]\n",
    "cléPrivéeCA= [gCA[1],gCA[2]]\n",
    "print(\"Clé Publique CA: \"+str(cléPubliqueCA))\n",
    "print(\"Clé Privée CA: \"+str(cléPrivéeCA))"
   ]
  },
  {
   "cell_type": "code",
   "execution_count": 54,
   "metadata": {},
   "outputs": [
    {
     "name": "stdout",
     "output_type": "stream",
     "text": [
      "Empreinte: 241481103666\n",
      "EmpreinteChiffré: 104478631139892481258048514728982802292864289553882876855246577466126642225477\n",
      "Message + empreinte: 322272027337086533995911214483094651161104478631139892481258048514728982802292864289553882876855246577466126642225477\n",
      "Message de Alice au CA: (169080153156951824255386544524978881459496085111885340643378709714303137541406353606029636984630159922816920276059249795, 78)\n"
     ]
    }
   ],
   "source": [
    "#Envoie le message au CA\n",
    "messageA=envoieAuthentifie(int(cléPubliqueA[0]),cléPrivéeA,cléPubliqueCA)\n",
    "print(\"Message de Alice au CA: \"+ str(messageA))"
   ]
  },
  {
   "cell_type": "code",
   "execution_count": 55,
   "metadata": {},
   "outputs": [
    {
     "name": "stdout",
     "output_type": "stream",
     "text": [
      "message déchiffré: 322272027337086533995911214483094651161104478631139892481258048514728982802292864289553882876855246577466126642225477\n",
      "Message: 322272027337086533995911214483094651161\n",
      "Empreinte du message chiffrée: 104478631139892481258048514728982802292864289553882876855246577466126642225477\n",
      "ed 241481103666\n",
      "ec 241481103666\n",
      "Certificat de Alice: 20487599057446613434801010156633529429189377550816605154968485221269919850277852237381722923506116078917339815143513951\n"
     ]
    }
   ],
   "source": [
    "#Vérifie la signature 10**39 \n",
    "#if \n",
    "verif=verif_signature(messageA[0],cléPrivéeCA,cléPubliqueA,messageA[1])\n",
    "assert(verif==cléPubliqueA[0])\n",
    "CAClePubliqeA=chiffrer(cléPubliqueA[0],cléPrivéeCA[0],cléPrivéeCA[1])\n",
    "print(\"Certificat de Alice: \"+str(CAClePubliqeA))"
   ]
  },
  {
   "cell_type": "code",
   "execution_count": 56,
   "metadata": {},
   "outputs": [
    {
     "name": "stdout",
     "output_type": "stream",
     "text": [
      "Vérification clé publique Alice: 322272027337086533995911214483094651161\n"
     ]
    }
   ],
   "source": [
    "#Bob vérifie le certificat d'alice\n",
    "print(\"Vérification clé publique Alice: \"+str(dechiffrer(CAClePubliqeA,cléPubliqueCA[0],cléPubliqueCA[1])))"
   ]
  },
  {
   "cell_type": "code",
   "execution_count": 57,
   "metadata": {},
   "outputs": [
    {
     "name": "stdout",
     "output_type": "stream",
     "text": [
      "Clé Publique B: [818760542595493957, 412388075072938169920792771320925381]\n",
      "Clé Privée B: [61244230560042971740167805887428593, 412388075072938169920792771320925381]\n",
      "Empreinte: 207117889891\n",
      "EmpreinteChiffré: 322523763188051539290424487808058909\n",
      "Message + empreinte: 23847748322523763188051539290424487808058909\n",
      "Le message crypté est\n",
      "(387752216273349729660912821780639730912526937954053498136546445140401124407425, 36)\n",
      "message déchiffré: 23847748322523763188051539290424487808058909\n",
      "Message: 23847748\n",
      "Empreinte du message chiffrée: 322523763188051539290424487808058909\n",
      "ed 207117889891\n",
      "ec 207117889891\n",
      "Le message d'origine est\n",
      "23847748\n",
      "Le message décrypté est\n",
      "23847748\n"
     ]
    }
   ],
   "source": [
    "#BOB\n",
    "gB=generateurClé(10**17,10**18)#10**6,10**7\n",
    "cléPubliqueB= [gB[0],gB[2]]\n",
    "cléPrivéeB= [gB[1],gB[2]]\n",
    "print(\"Clé Publique B: \"+str(cléPubliqueB))\n",
    "print(\"Clé Privée B: \"+str(cléPrivéeB))\n",
    "\n",
    "#Choix message taille < 10**6\n",
    "messagez=23847748\n",
    "messageCd=envoieAuthentifie(messagez,cléPrivéeB,cléPubliqueA)\n",
    "\n",
    "print(\"Le message crypté est\")\n",
    "print(messageCd)\n",
    "\n",
    "messageDk=verif_signature(messageCd[0],cléPrivéeA,cléPubliqueB,messageCd[1])\n",
    "\n",
    "print(\"Le message d'origine est\")\n",
    "print(messagez)\n",
    "\n",
    "print(\"Le message décrypté est\")\n",
    "print(messageDk)\n",
    "\n"
   ]
  }
 ],
 "metadata": {
  "kernelspec": {
   "display_name": "Python 3.10.5 64-bit",
   "language": "python",
   "name": "python3"
  },
  "language_info": {
   "codemirror_mode": {
    "name": "ipython",
    "version": 3
   },
   "file_extension": ".py",
   "mimetype": "text/x-python",
   "name": "python",
   "nbconvert_exporter": "python",
   "pygments_lexer": "ipython3",
   "version": "3.10.5"
  },
  "orig_nbformat": 4,
  "vscode": {
   "interpreter": {
    "hash": "c73975dec8f05322b20599ea94a31338085ab03aa611874964adff9e55347a86"
   }
  }
 },
 "nbformat": 4,
 "nbformat_minor": 2
}
