{
 "cells": [
  {
   "cell_type": "code",
   "execution_count": 192,
   "metadata": {},
   "outputs": [],
   "source": [
    "from random import *\n",
    "def puissance (a,e,n):\n",
    "  p = 1\n",
    "  while e>0:\n",
    "    if (e % 2 != 0):\n",
    "      p=(p*a)%n\n",
    "    a=(a*a)%n\n",
    "    e=e//2\n",
    "  return p\n",
    "#Commenter tout le code\n",
    "#taille des messages"
   ]
  },
  {
   "cell_type": "code",
   "execution_count": 193,
   "metadata": {},
   "outputs": [],
   "source": [
    "def test_premier(n): # test de Fermat\n",
    "\n",
    "   if ( (puissance(2,n-1,n)==1) and\n",
    "      (puissance(3,n-1,n)==1) and\n",
    "      (puissance(5,n-1,n)==1) and\n",
    "      (puissance(7,n-1,n)==1) and\n",
    "      (puissance(11,n-1,n)==1) and\n",
    "      (puissance(13,n-1,n)==1) ):\n",
    "      return True; # probablement premier (garantie si n<2^15)\n",
    "   return False"
   ]
  },
  {
   "cell_type": "code",
   "execution_count": 194,
   "metadata": {},
   "outputs": [],
   "source": [
    "def pgcd(u, v):\n",
    "  t = 0\n",
    "  while (v):\n",
    "    t = u\n",
    "    u = v\n",
    "    v = t % v\n",
    "  if(u<0):\n",
    "    return -u\n",
    "  else:\n",
    "    return u"
   ]
  },
  {
   "cell_type": "code",
   "execution_count": 195,
   "metadata": {},
   "outputs": [],
   "source": [
    "def bezout(a, b):\n",
    "\n",
    "  # On sauvegarde les valeurs de a et b.\n",
    "   a0 = a\n",
    "   b0 = b\n",
    "\n",
    "  # On laisse invariant p*a0 + q*b0 = a et  r*a0 + s*b0 = b.\n",
    "   p = 1  \n",
    "   q = 0\n",
    "   r = 0  \n",
    "   s = 1\n",
    "   c=1\n",
    "   quotient=1\n",
    "   nouveau_r=1\n",
    "   nouveau_s=1\n",
    "\n",
    "  # La boucle principale.\n",
    "   while (b != 0): \n",
    "    c = a % b\n",
    "    quotient = a//b\n",
    "    a = b\n",
    "    b = c\n",
    "    nouveau_r = p - (quotient * r)\n",
    "    nouveau_s = q - (quotient * s)\n",
    "    p = r \n",
    "    q = s\n",
    "    r = nouveau_r\n",
    "    s = nouveau_s\n",
    "    if p<0:\n",
    "      p=p+b0\n",
    "   return p # on n'a besoin que de p #si p est négatif retourne p+phi\n"
   ]
  },
  {
   "cell_type": "code",
   "execution_count": 196,
   "metadata": {},
   "outputs": [],
   "source": [
    "#vérifier que le message est plus petit que la clé\n",
    "def generateurClé():\n",
    "  c=100\n",
    "  b=1000\n",
    "  p=randint(c,b)\n",
    "  q=randint(c,b)\n",
    "  e=randint(c,b)\n",
    "  d=randint(c,b)\n",
    "\n",
    "  while test_premier(p)==False:\n",
    "    p = randint(c,b)\n",
    "  while test_premier(q)==False:\n",
    "    q = randint(c,b)\n",
    "  #print(\"2 nombres probablement premier =\",p,q)\n",
    "\n",
    "  n=p*q\n",
    "  #print(\"n=p*q=\",n)\n",
    "  \n",
    "  phi = (p - 1)*(q - 1)\n",
    "  #print(\"phi(n)=\",phi)\n",
    " \n",
    "  while 1>=e>=phi or pgcd(e,phi)!=1 :\n",
    "      e = randint(c,b)\n",
    "  d= int(bezout(int(e),int(phi)))\n",
    "  #print(\"cle publique e=\",e)\n",
    "  #print(\"cle privée d=\", d)\n",
    "  return e,d,n "
   ]
  },
  {
   "cell_type": "code",
   "execution_count": 197,
   "metadata": {},
   "outputs": [],
   "source": [
    "def chiffrer(message,clé,n):\n",
    "    return puissance(message,clé,n)"
   ]
  },
  {
   "cell_type": "code",
   "execution_count": 198,
   "metadata": {},
   "outputs": [],
   "source": [
    "def dechiffrer(messageChiffre,clé,n):\n",
    "    return puissance(messageChiffre,clé,n)"
   ]
  },
  {
   "cell_type": "code",
   "execution_count": 199,
   "metadata": {},
   "outputs": [
    {
     "data": {
      "text/plain": [
       "b\"E\\x90'}=\\xc3\\xca\\x16\\xa1n\\x14b3\\xd1s\\x86<\\xc0\\xb1He]T\\xfc\\xf8 \\xd0nH\\xa5s0\""
      ]
     },
     "execution_count": 199,
     "metadata": {},
     "output_type": "execute_result"
    }
   ],
   "source": [
    "import hashlib\n",
    "\n",
    "def empreinte(message): \n",
    "    m=hashlib.sha256(message)\n",
    "    return m.digest()\n",
    "    \n",
    "a=bytes(1524815)\n",
    "empreinte(a)"
   ]
  },
  {
   "cell_type": "code",
   "execution_count": 200,
   "metadata": {},
   "outputs": [],
   "source": [
    "def envoieAuthentifie(message,clePrivee,clePublique):\n",
    "    #laisser en bytes le message\n",
    "    #calcule de l'empreinte du message\n",
    "    e = empreinte(bytes(message))\n",
    "    print(str(e))\n",
    "    #Chiffrage de l'empreinte avce la clé privée de l'envoyeur\n",
    "    c = chiffrer(message,clePrivee[0],clePrivee[1])\n",
    "\n",
    "    #Concaténation du message et de l'empreinte chiffrée\n",
    "    e= int.from_bytes(e, byteorder ='little')\n",
    "\n",
    "    #Taille de l'empreinte\n",
    "    size= len(str(e))\n",
    "    concatene = int(str(c)+str(e))\n",
    "\n",
    "    #Envoie du message finale chiffrée avec la clé publique du receveur\n",
    "    return chiffrer(concatene,clePublique[0],clePublique[1]), size  \n",
    "#envoieAuthentifie(1524815)\n",
    " "
   ]
  },
  {
   "cell_type": "code",
   "execution_count": 203,
   "metadata": {},
   "outputs": [],
   "source": [
    "def verif_signature(message,clePrivee,clePublique,tailleEmpreinte):\n",
    "\n",
    "    #Dechiffrer le message signé\n",
    "    messageD = str(dechiffrer(message,clePrivee[0],clePrivee[1]))\n",
    "    \n",
    "    #Separer le message de l'empreinte\n",
    "    MessageEmpreinteSep=len(messageD)-tailleEmpreinte\n",
    "    messageM=int(messageD[0:MessageEmpreinteSep])\n",
    "    empreinteM=int(messageD[MessageEmpreinteSep:len(messageD)-1])\n",
    "    print(messageM)\n",
    "    print(empreinteM)\n",
    "\n",
    "    #Déchiffrer l'empreinte avec la clé publique\n",
    "    EmpreinteD = dechiffrer(empreinteM,clePublique[0],clePublique[1])\n",
    "\n",
    "    #Vérification que l'empreinte déchiffrer correspond à celui du message\n",
    "    if(int.from_bytes(empreinte(messageM)).equals(EmpreinteD)):\n",
    "           return True\n",
    "    else:\n",
    "            return False\n",
    "#verif_signature()\n",
    "    "
   ]
  },
  {
   "cell_type": "code",
   "execution_count": 204,
   "metadata": {},
   "outputs": [
    {
     "name": "stdout",
     "output_type": "stream",
     "text": [
      "b'\\xf9O\\xd3\\x01\\x05\\xd3\\xcf0)I\\xa8;\\xbb\\xa2\\xc6@HyO\\xcc\\x1d\\x92\\xc8F\\x8a\\xce\\xd8i\\x9eI\\xd6\\x1d'\n",
      "messageA\n",
      "(17363, 77)\n"
     ]
    },
    {
     "ename": "ValueError",
     "evalue": "invalid literal for int() with base 10: ''",
     "output_type": "error",
     "traceback": [
      "\u001b[0;31m---------------------------------------------------------------------------\u001b[0m",
      "\u001b[0;31mValueError\u001b[0m                                Traceback (most recent call last)",
      "Cell \u001b[0;32mIn [204], line 21\u001b[0m\n\u001b[1;32m     17\u001b[0m \u001b[39mprint\u001b[39m(messageA)\n\u001b[1;32m     19\u001b[0m \u001b[39m#Vérifie la signature\u001b[39;00m\n\u001b[1;32m     20\u001b[0m \u001b[39m#if\u001b[39;00m\n\u001b[0;32m---> 21\u001b[0m verif_signature(messageA[\u001b[39m0\u001b[39;49m],cléPrivéeCA,cléPubliqueA,messageA[\u001b[39m1\u001b[39;49m])\n\u001b[1;32m     22\u001b[0m CAClePubliqeA\u001b[39m=\u001b[39mchiffrer(cléPubliqueA[\u001b[39m0\u001b[39m],cléPrivéeCA[\u001b[39m0\u001b[39m],cléPrivéeCA[\u001b[39m1\u001b[39m])\n\u001b[1;32m     24\u001b[0m \u001b[39m#Bob vérifie le certificat d'alice\u001b[39;00m\n",
      "Cell \u001b[0;32mIn [203], line 8\u001b[0m, in \u001b[0;36mverif_signature\u001b[0;34m(message, clePrivee, clePublique, tailleEmpreinte)\u001b[0m\n\u001b[1;32m      6\u001b[0m \u001b[39m#Separer le message de l'empreinte\u001b[39;00m\n\u001b[1;32m      7\u001b[0m MessageEmpreinteSep\u001b[39m=\u001b[39m\u001b[39mlen\u001b[39m(messageD)\u001b[39m-\u001b[39mtailleEmpreinte\n\u001b[0;32m----> 8\u001b[0m messageM\u001b[39m=\u001b[39m\u001b[39mint\u001b[39;49m(messageD[\u001b[39m0\u001b[39;49m:MessageEmpreinteSep])\n\u001b[1;32m      9\u001b[0m empreinteM\u001b[39m=\u001b[39m\u001b[39mint\u001b[39m(messageD[MessageEmpreinteSep:\u001b[39mlen\u001b[39m(messageD)\u001b[39m-\u001b[39m\u001b[39m1\u001b[39m])\n\u001b[1;32m     10\u001b[0m \u001b[39mprint\u001b[39m(messageM)\n",
      "\u001b[0;31mValueError\u001b[0m: invalid literal for int() with base 10: ''"
     ]
    }
   ],
   "source": [
    "#Vérifier que le message est plus petit que la clé\n",
    "\n",
    "#Alice\n",
    "gA=generateurClé()\n",
    "cléPubliqueA= [gA[0],gA[2]]\n",
    "cléPrivéeA= [gA[1],gA[2]]\n",
    "\n",
    "#CA\n",
    "gCA=generateurClé()\n",
    "cléPubliqueCA= [gCA[0],gCA[2]]\n",
    "cléPrivéeCA= [gCA[1],gCA[2]]\n",
    "\n",
    "#Envoie message au CA\n",
    "messageA=envoieAuthentifie(int(str(cléPubliqueA[0])+str(cléPubliqueA[1]))\n",
    ",cléPrivéeCA,cléPubliqueCA)\n",
    "print(\"messageA\")\n",
    "print(messageA)\n",
    "\n",
    "#Vérifie la signature\n",
    "#if\n",
    "verif_signature(messageA[0],cléPrivéeCA,cléPubliqueA,messageA[1])\n",
    "CAClePubliqeA=chiffrer(cléPubliqueA[0],cléPrivéeCA[0],cléPrivéeCA[1])\n",
    "\n",
    "#Bob vérifie le certificat d'alice\n",
    "dechiffrer(CAClePubliqeA,cléPubliqueCA[0],cléPubliqueCA[1])"
   ]
  },
  {
   "cell_type": "code",
   "execution_count": null,
   "metadata": {},
   "outputs": [],
   "source": [
    "#BOB\n",
    "gB=generateurClé()\n",
    "cléPubliqueB= [gB[0],gB[2]]\n",
    "cléPrivéeB= [gB[1],gB[2]]\n",
    "\n",
    "#Choix message taille < 100000\n",
    "message=1258\n",
    "messageC=envoieAuthentifie(message,cléPrivéeB,cléPubliqueA)\n",
    "messageD=verif_signature(messageC,cléPrivéeA,cléPubliqueB,messageC[1])\n",
    "print(\"Le message d'origine est\")\n",
    "print(message)\n",
    "print(\"Le message crypté est\")\n",
    "print(messageC[0])\n",
    "print(\"Le message décrypté est\")\n",
    "print(messageD)\n",
    "\n"
   ]
  }
 ],
 "metadata": {
  "kernelspec": {
   "display_name": "Python 3.10.6 64-bit",
   "language": "python",
   "name": "python3"
  },
  "language_info": {
   "codemirror_mode": {
    "name": "ipython",
    "version": 3
   },
   "file_extension": ".py",
   "mimetype": "text/x-python",
   "name": "python",
   "nbconvert_exporter": "python",
   "pygments_lexer": "ipython3",
   "version": "3.10.6"
  },
  "orig_nbformat": 4,
  "vscode": {
   "interpreter": {
    "hash": "916dbcbb3f70747c44a77c7bcd40155683ae19c65e1c03b4aa3499c5328201f1"
   }
  }
 },
 "nbformat": 4,
 "nbformat_minor": 2
}
