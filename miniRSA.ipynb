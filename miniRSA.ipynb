{
 "cells": [
  {
   "cell_type": "code",
   "execution_count": 6,
   "metadata": {},
   "outputs": [],
   "source": [
    "from random import *\n",
    "def puissance (a,e,n):\n",
    "  p = 1\n",
    "  while e>0:\n",
    "    if (e % 2 != 0):\n",
    "      p=(p*a)%n\n",
    "    a=(a*a)%n\n",
    "    e=e//2\n",
    "  return p\n",
    "#Commenter tout le code\n",
    "#taille des messages"
   ]
  },
  {
   "cell_type": "code",
   "execution_count": 7,
   "metadata": {},
   "outputs": [],
   "source": [
    "def test_premier(n): # test de Fermat\n",
    "\n",
    "   if ( (puissance(2,n-1,n)==1) and\n",
    "      (puissance(3,n-1,n)==1) and\n",
    "      (puissance(5,n-1,n)==1) and\n",
    "      (puissance(7,n-1,n)==1) and\n",
    "      (puissance(11,n-1,n)==1) and\n",
    "      (puissance(13,n-1,n)==1) ):\n",
    "      return True; # probablement premier (garantie si n<2^15)\n",
    "   return False"
   ]
  },
  {
   "cell_type": "code",
   "execution_count": 8,
   "metadata": {},
   "outputs": [],
   "source": [
    "def pgcd(u, v):\n",
    "  t = 0\n",
    "  while (v):\n",
    "    t = u\n",
    "    u = v\n",
    "    v = t % v\n",
    "  if(u<0):\n",
    "    return -u\n",
    "  else:\n",
    "    return u"
   ]
  },
  {
   "cell_type": "code",
   "execution_count": 9,
   "metadata": {},
   "outputs": [],
   "source": [
    "def bezout(a, b):\n",
    "\n",
    "  # On sauvegarde les valeurs de a et b.\n",
    "   a0 = a\n",
    "   b0 = b\n",
    "\n",
    "  # On laisse invariant p*a0 + q*b0 = a et  r*a0 + s*b0 = b.\n",
    "   p = 1  \n",
    "   q = 0\n",
    "   r = 0  \n",
    "   s = 1\n",
    "   c=1\n",
    "   quotient=1\n",
    "   nouveau_r=1\n",
    "   nouveau_s=1\n",
    "\n",
    "  # La boucle principale.\n",
    "   while (b != 0): \n",
    "    c = a % b\n",
    "    quotient = a//b\n",
    "    a = b\n",
    "    b = c\n",
    "    nouveau_r = p - (quotient * r)\n",
    "    nouveau_s = q - (quotient * s)\n",
    "    p = r \n",
    "    q = s\n",
    "    r = nouveau_r\n",
    "    s = nouveau_s\n",
    "    if p<0:\n",
    "      p=p+b0\n",
    "   return p # on n'a besoin que de p #si p est négatif retourne p+phi\n"
   ]
  },
  {
   "cell_type": "code",
   "execution_count": 10,
   "metadata": {},
   "outputs": [],
   "source": [
    "#vérifier que le message est plus petit que la clé\n",
    "def generateurClé(message):\n",
    "  c=10\n",
    "  b=100\n",
    "  p=randint(c,b)\n",
    "  q=randint(c,b)\n",
    "  e=randint(c,b)\n",
    "  d=randint(c,b)\n",
    "\n",
    "  while test_premier(p)==False:\n",
    "    p = randint(c,b)\n",
    "  while test_premier(q)==False:\n",
    "    q = randint(c,b)\n",
    "  print(\"2 nombres probablement premier =\",p,q)\n",
    "\n",
    "  n=p*q\n",
    "  print(\"n=p*q=\",n)\n",
    "  \n",
    "  phi = (p - 1)*(q - 1)\n",
    "  print(\"phi(n)=\",phi)\n",
    " \n",
    "  while 1>=e>=phi or pgcd(e,phi)!=1 :\n",
    "      e = randint(c,b)\n",
    "  d= int(bezout(int(e),int(phi)))\n",
    "  print(\"cle publique e=\",e)\n",
    "  print(\"cle privée d=\", d)\n",
    "  return e,d "
   ]
  },
  {
   "cell_type": "code",
   "execution_count": 11,
   "metadata": {},
   "outputs": [],
   "source": [
    "def chiffrer(message,clé,n):\n",
    "    return puissance(message,clé,n)"
   ]
  },
  {
   "cell_type": "code",
   "execution_count": 12,
   "metadata": {},
   "outputs": [],
   "source": [
    "def dechiffrer(messageChiffre,clé,n):\n",
    "    return puissance(messageChiffre,clé,n)"
   ]
  },
  {
   "cell_type": "code",
   "execution_count": 13,
   "metadata": {},
   "outputs": [
    {
     "data": {
      "text/plain": [
       "b\"E\\x90'}=\\xc3\\xca\\x16\\xa1n\\x14b3\\xd1s\\x86<\\xc0\\xb1He]T\\xfc\\xf8 \\xd0nH\\xa5s0\""
      ]
     },
     "execution_count": 13,
     "metadata": {},
     "output_type": "execute_result"
    }
   ],
   "source": [
    "import hashlib\n",
    "\n",
    "def empreinte(message): \n",
    "    m=hashlib.sha256(message)\n",
    "    return m.digest()\n",
    "    \n",
    "a=bytes(1524815)\n",
    "empreinte(a)"
   ]
  },
  {
   "cell_type": "code",
   "execution_count": 15,
   "metadata": {},
   "outputs": [
    {
     "name": "stdout",
     "output_type": "stream",
     "text": [
      "77\n"
     ]
    },
    {
     "data": {
      "text/plain": [
       "2289"
      ]
     },
     "execution_count": 15,
     "metadata": {},
     "output_type": "execute_result"
    }
   ],
   "source": [
    "def envoieAuthentifie(message,clePrivee,clePublique,n):\n",
    "    #calcule de l'empreinte du message\n",
    "    e = empreinte(bytes(message))\n",
    "    #Chiffrage de l'empreinte avce la clé privée de l'envoyeur\n",
    "    c = chiffrer(message,clePrivee,n)\n",
    "    #Concaténation du message et de l'empreinte chiffrée\n",
    "    e= int.from_bytes(e, byteorder ='big')\n",
    "    #Taille de l'empreinte\n",
    "    size= len(str(e))\n",
    "    print(size)\n",
    "    concatene = int(str(c)+str(e))\n",
    "    #Envoie du message finale chiffrée avec la clé publique du receveur\n",
    "    return chiffrer(concatene,clePublique,n)  \n",
    "envoieAuthentifie(1524815,597,77,2809)\n",
    " "
   ]
  },
  {
   "cell_type": "code",
   "execution_count": null,
   "metadata": {},
   "outputs": [],
   "source": [
    "def verif_signature(message,clePrivee,clePublique,n,tailleEmpreinte):\n",
    "    #Dechiffrer le message signé\n",
    "    messageD = dechiffrer(message,clePrivee,n)\n",
    "    #Separer le message de l'empreinte\n",
    "    for i in range (len(str(messageD)),len(str(messageD))-tailleEmpreinte,-1):\n",
    "    messageD.split(tailleEmpreinte)\n",
    "    #Déchiffrer l'empreinte avec la clé publique\n",
    "    EmpreinteD = dechiffrer(e,clePublique,n)\n",
    "    \n",
    "    "
   ]
  }
 ],
 "metadata": {
  "kernelspec": {
   "display_name": "Python 3.10.6 64-bit",
   "language": "python",
   "name": "python3"
  },
  "language_info": {
   "codemirror_mode": {
    "name": "ipython",
    "version": 3
   },
   "file_extension": ".py",
   "mimetype": "text/x-python",
   "name": "python",
   "nbconvert_exporter": "python",
   "pygments_lexer": "ipython3",
   "version": "3.10.6"
  },
  "orig_nbformat": 4,
  "vscode": {
   "interpreter": {
    "hash": "916dbcbb3f70747c44a77c7bcd40155683ae19c65e1c03b4aa3499c5328201f1"
   }
  }
 },
 "nbformat": 4,
 "nbformat_minor": 2
}
